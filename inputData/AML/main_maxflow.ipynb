{
 "cells": [
  {
   "cell_type": "code",
   "execution_count": 1,
   "metadata": {},
   "outputs": [
    {
     "name": "stdout",
     "output_type": "stream",
     "text": [
      "Using backend cpu\n"
     ]
    }
   ],
   "source": [
    "from Code.myHoloscope import *\n",
    "from Code.myMaxflow import *\n",
    "from Code.Check import *\n",
    "from Code.info import *"
   ]
  },
  {
   "cell_type": "code",
   "execution_count": 2,
   "metadata": {},
   "outputs": [
    {
     "data": {
      "text/plain": [
       "['AkropolisHacker',\n",
       " 'AlphaHomora',\n",
       " 'Arthur0xWalletHacker',\n",
       " 'AscendEXHacker',\n",
       " 'BadgerDAOExploitFunder',\n",
       " 'Coinrail',\n",
       " 'CryptopiaHacker',\n",
       " 'DragonExHacker',\n",
       " 'EasyfiHacker',\n",
       " 'Fake_Phishing5041',\n",
       " 'FakeMetadiumPresale',\n",
       " 'KucoinHacker',\n",
       " 'PlusTokenPonzi',\n",
       " 'UpbitHack']"
      ]
     },
     "execution_count": 2,
     "metadata": {},
     "output_type": "execute_result"
    }
   ],
   "source": [
    "CASES"
   ]
  },
  {
   "cell_type": "code",
   "execution_count": 47,
   "metadata": {},
   "outputs": [
    {
     "name": "stdout",
     "output_type": "stream",
     "text": [
      "读取\n",
      "已完成构建，读取图ing\n"
     ]
    },
    {
     "ename": "MemoryError",
     "evalue": "",
     "output_type": "error",
     "traceback": [
      "\u001b[1;31m---------------------------------------------------------------------------\u001b[0m",
      "\u001b[1;31mMemoryError\u001b[0m                               Traceback (most recent call last)",
      "\u001b[1;32m<ipython-input-47-8bb1f5c308e4>\u001b[0m in \u001b[0;36m<module>\u001b[1;34m\u001b[0m\n\u001b[0;32m     18\u001b[0m     \u001b[1;32melse\u001b[0m\u001b[1;33m:\u001b[0m\u001b[1;33m\u001b[0m\u001b[1;33m\u001b[0m\u001b[0m\n\u001b[0;32m     19\u001b[0m         \u001b[0mprint\u001b[0m\u001b[1;33m(\u001b[0m\u001b[1;34m'读取'\u001b[0m\u001b[1;33m)\u001b[0m\u001b[1;33m\u001b[0m\u001b[1;33m\u001b[0m\u001b[0m\n\u001b[1;32m---> 20\u001b[1;33m         \u001b[0mstart_nodes\u001b[0m\u001b[1;33m,\u001b[0m\u001b[0mend_nodes\u001b[0m\u001b[1;33m,\u001b[0m\u001b[0mcapacities\u001b[0m\u001b[1;33m,\u001b[0m\u001b[0mnodenum\u001b[0m \u001b[1;33m=\u001b[0m \u001b[0mread_g\u001b[0m\u001b[1;33m(\u001b[0m\u001b[0mcasename\u001b[0m\u001b[1;33m)\u001b[0m\u001b[1;33m\u001b[0m\u001b[1;33m\u001b[0m\u001b[0m\n\u001b[0m\u001b[0;32m     21\u001b[0m     \u001b[0msourceadds\u001b[0m \u001b[1;33m=\u001b[0m \u001b[0msaddset\u001b[0m\u001b[1;33m[\u001b[0m\u001b[0mcasename\u001b[0m\u001b[1;33m]\u001b[0m\u001b[1;33m\u001b[0m\u001b[1;33m\u001b[0m\u001b[0m\n\u001b[0;32m     22\u001b[0m     \u001b[0msource\u001b[0m \u001b[1;33m=\u001b[0m \u001b[0mnodenum\u001b[0m\u001b[1;33m[\u001b[0m\u001b[0msourceadds\u001b[0m\u001b[1;33m[\u001b[0m\u001b[1;36m0\u001b[0m\u001b[1;33m]\u001b[0m\u001b[1;33m]\u001b[0m\u001b[1;33m\u001b[0m\u001b[1;33m\u001b[0m\u001b[0m\n",
      "\u001b[1;32mF:\\Inpluslab2023\\2023antiML_Experiment\\spartan2-tutorials-master\\spartan2-tutorials-master\\Code\\myMaxflow.py\u001b[0m in \u001b[0;36mread_g\u001b[1;34m(casename)\u001b[0m\n\u001b[0;32m     70\u001b[0m     \u001b[0mend_nodes\u001b[0m\u001b[1;33m=\u001b[0m\u001b[0mend_nodes\u001b[0m\u001b[1;33m.\u001b[0m\u001b[0mtolist\u001b[0m\u001b[1;33m(\u001b[0m\u001b[1;33m)\u001b[0m\u001b[1;33m\u001b[0m\u001b[1;33m\u001b[0m\u001b[0m\n\u001b[0;32m     71\u001b[0m     \u001b[0mcapacities\u001b[0m\u001b[1;33m=\u001b[0m\u001b[0mnp\u001b[0m\u001b[1;33m.\u001b[0m\u001b[0mload\u001b[0m\u001b[1;33m(\u001b[0m\u001b[0mgpath\u001b[0m\u001b[1;33m+\u001b[0m\u001b[1;34m'capacities.npy'\u001b[0m\u001b[1;33m)\u001b[0m\u001b[1;33m\u001b[0m\u001b[1;33m\u001b[0m\u001b[0m\n\u001b[1;32m---> 72\u001b[1;33m     \u001b[0mcapacities\u001b[0m\u001b[1;33m=\u001b[0m\u001b[0mcapacities\u001b[0m\u001b[1;33m.\u001b[0m\u001b[0mtolist\u001b[0m\u001b[1;33m(\u001b[0m\u001b[1;33m)\u001b[0m\u001b[1;33m\u001b[0m\u001b[1;33m\u001b[0m\u001b[0m\n\u001b[0m\u001b[0;32m     73\u001b[0m     \u001b[0mnodenum\u001b[0m \u001b[1;33m=\u001b[0m \u001b[0mnp\u001b[0m\u001b[1;33m.\u001b[0m\u001b[0mload\u001b[0m\u001b[1;33m(\u001b[0m\u001b[0mgpath\u001b[0m\u001b[1;33m+\u001b[0m\u001b[1;34m'nodenum.npy'\u001b[0m\u001b[1;33m,\u001b[0m \u001b[0mallow_pickle\u001b[0m\u001b[1;33m=\u001b[0m\u001b[1;32mTrue\u001b[0m\u001b[1;33m)\u001b[0m\u001b[1;33m.\u001b[0m\u001b[0mitem\u001b[0m\u001b[1;33m(\u001b[0m\u001b[1;33m)\u001b[0m\u001b[1;33m\u001b[0m\u001b[1;33m\u001b[0m\u001b[0m\n\u001b[0;32m     74\u001b[0m     \u001b[0mprint\u001b[0m\u001b[1;33m(\u001b[0m\u001b[1;34m'读取完成'\u001b[0m\u001b[1;33m)\u001b[0m\u001b[1;33m\u001b[0m\u001b[1;33m\u001b[0m\u001b[0m\n",
      "\u001b[1;32mc:\\python37\\lib\\site-packages\\numpy\\lib\\npyio.py\u001b[0m in \u001b[0;36mload\u001b[1;34m(file, mmap_mode, allow_pickle, fix_imports, encoding)\u001b[0m\n\u001b[0;32m    451\u001b[0m             \u001b[1;32melse\u001b[0m\u001b[1;33m:\u001b[0m\u001b[1;33m\u001b[0m\u001b[1;33m\u001b[0m\u001b[0m\n\u001b[0;32m    452\u001b[0m                 return format.read_array(fid, allow_pickle=allow_pickle,\n\u001b[1;32m--> 453\u001b[1;33m                                          pickle_kwargs=pickle_kwargs)\n\u001b[0m\u001b[0;32m    454\u001b[0m         \u001b[1;32melse\u001b[0m\u001b[1;33m:\u001b[0m\u001b[1;33m\u001b[0m\u001b[1;33m\u001b[0m\u001b[0m\n\u001b[0;32m    455\u001b[0m             \u001b[1;31m# Try a pickle\u001b[0m\u001b[1;33m\u001b[0m\u001b[1;33m\u001b[0m\u001b[1;33m\u001b[0m\u001b[0m\n",
      "\u001b[1;32mc:\\python37\\lib\\site-packages\\numpy\\lib\\format.py\u001b[0m in \u001b[0;36mread_array\u001b[1;34m(fp, allow_pickle, pickle_kwargs)\u001b[0m\n\u001b[0;32m    725\u001b[0m             \u001b[0mpickle_kwargs\u001b[0m \u001b[1;33m=\u001b[0m \u001b[1;33m{\u001b[0m\u001b[1;33m}\u001b[0m\u001b[1;33m\u001b[0m\u001b[1;33m\u001b[0m\u001b[0m\n\u001b[0;32m    726\u001b[0m         \u001b[1;32mtry\u001b[0m\u001b[1;33m:\u001b[0m\u001b[1;33m\u001b[0m\u001b[1;33m\u001b[0m\u001b[0m\n\u001b[1;32m--> 727\u001b[1;33m             \u001b[0marray\u001b[0m \u001b[1;33m=\u001b[0m \u001b[0mpickle\u001b[0m\u001b[1;33m.\u001b[0m\u001b[0mload\u001b[0m\u001b[1;33m(\u001b[0m\u001b[0mfp\u001b[0m\u001b[1;33m,\u001b[0m \u001b[1;33m**\u001b[0m\u001b[0mpickle_kwargs\u001b[0m\u001b[1;33m)\u001b[0m\u001b[1;33m\u001b[0m\u001b[1;33m\u001b[0m\u001b[0m\n\u001b[0m\u001b[0;32m    728\u001b[0m         \u001b[1;32mexcept\u001b[0m \u001b[0mUnicodeError\u001b[0m \u001b[1;32mas\u001b[0m \u001b[0merr\u001b[0m\u001b[1;33m:\u001b[0m\u001b[1;33m\u001b[0m\u001b[1;33m\u001b[0m\u001b[0m\n\u001b[0;32m    729\u001b[0m             \u001b[1;32mif\u001b[0m \u001b[0msys\u001b[0m\u001b[1;33m.\u001b[0m\u001b[0mversion_info\u001b[0m\u001b[1;33m[\u001b[0m\u001b[1;36m0\u001b[0m\u001b[1;33m]\u001b[0m \u001b[1;33m>=\u001b[0m \u001b[1;36m3\u001b[0m\u001b[1;33m:\u001b[0m\u001b[1;33m\u001b[0m\u001b[1;33m\u001b[0m\u001b[0m\n",
      "\u001b[1;31mMemoryError\u001b[0m: "
     ]
    }
   ],
   "source": [
    "caseing = ['PlusTokenPonzi','UpbitHack','AlphaHomora','KucoinHacker']\n",
    "caseandk = {'PlusTokenPonzi':10,'UpbitHack':20,'AlphaHomora':10,'KucoinHacker':30 }\n",
    "money={}\n",
    "# g = os.walk(f'./Result/')  \n",
    "# cases = []\n",
    "# for path,dir_list,file_list in g:  \n",
    "#     for dir_name in dir_list:  \n",
    "#         cases.append(str(dir_name[0:-4]))\n",
    "#         print(dir_name[0:-4])\n",
    "for casename in caseing[1:2]:\n",
    "    gpath = './Maxflow_graph/'+casename+'/'\n",
    "    already = os.path.exists(gpath+'start_nodes.npy')\n",
    "    if not already:\n",
    "        print('未构造图')\n",
    "        #start_nodes,end_nodes,capacities,nodenum = build_g(casename)\n",
    "        \n",
    "        continue\n",
    "    else:\n",
    "        print('读取')\n",
    "        start_nodes,end_nodes,capacities,nodenum = read_g(casename)\n",
    "    sourceadds = saddset[casename]\n",
    "    source = nodenum[sourceadds[0]]\n",
    "    casemoney = []\n",
    "    for level in range(4):\n",
    "        print('计算level',level,'ing')\n",
    "        k = caseandk[casename]\n",
    "        r=output_flow_add(casename,k,level,source)\n",
    "        casemoney.append(sum(r))\n",
    "    money[casename]=casemoney\n",
    "    print('完成')\n",
    "    \n",
    "money_df=pd.DataFrame.from_dict(money,orient='index')\n",
    "# out_path ='F:/Inpluslab2023/2023antiML_Experiment/spartan2-tutorials-master/spartan2-tutorials-master/Result/'\n",
    "# writer = pd.ExcelWriter(out_path+'Money_cases.xlsx')\n",
    "# money_df.to_excel(writer)"
   ]
  },
  {
   "cell_type": "code",
   "execution_count": 25,
   "metadata": {
    "scrolled": true
   },
   "outputs": [
    {
     "name": "stdout",
     "output_type": "stream",
     "text": [
      "AkropolisHacker\n",
      "AlphaHomora\n",
      "Arthur0xWalletHacker\n",
      "AscendEXHacker\n",
      "Coinrail\n",
      "CryptopiaHacker\n",
      "FakeMetadiumPresale\n",
      "Fake_Phishing5041\n",
      "KucoinHacker\n",
      "PlusTokenPonzi\n",
      "UpbitHack\n",
      "PlusTokenPonzi :\n",
      " holo+maxflow  (level=0 k=10) 找出正确的： 20232 ，\n",
      "正确率(Precision): 0.9778164419312745 ,\n",
      "召回率（Recall）： 0.6572672340978494 \n",
      "\n",
      "\n",
      "PlusTokenPonzi :\n",
      " holo+maxflow  (level=1 k=10) 找出正确的： 19455 ，\n",
      "正确率(Precision): 0.991135564725661 ,\n",
      "召回率（Recall）： 0.6320252095380418 \n",
      "\n",
      "\n",
      "PlusTokenPonzi :\n",
      " holo+maxflow  (level=2 k=10) 找出正确的： 19271 ，\n",
      "正确率(Precision): 0.9917146974063401 ,\n",
      "召回率（Recall）： 0.6260476902085634 \n",
      "\n",
      "\n",
      "PlusTokenPonzi :\n",
      " holo+maxflow  (level=3 k=10) 找出正确的： 19231 ，\n",
      "正确率(Precision): 0.99118647562107 ,\n",
      "召回率（Recall）： 0.6247482294847638 \n",
      "\n",
      "\n",
      "UpbitHack :\n",
      " holo+maxflow  (level=0 k=10) 找出正确的： 0 ，\n",
      "正确率(Precision): -2 ,\n",
      "召回率（Recall）： 0.0 \n",
      "\n",
      "\n",
      "UpbitHack :\n",
      " holo+maxflow  (level=1 k=10) 找出正确的： 175 ，\n",
      "正确率(Precision): 0.6889763779527559 ,\n",
      "召回率（Recall）： 0.010584890824411783 \n",
      "\n",
      "\n",
      "UpbitHack :\n",
      " holo+maxflow  (level=2 k=10) 找出正确的： 228 ，\n",
      "正确率(Precision): 0.6993865030674846 ,\n",
      "召回率（Recall）： 0.013790600616947922 \n",
      "\n",
      "\n",
      "UpbitHack :\n",
      " holo+maxflow  (level=3 k=10) 找出正确的： 181 ，\n",
      "正确率(Precision): 0.6856060606060606 ,\n",
      "召回率（Recall）： 0.010947801366963043 \n",
      "\n",
      "\n",
      "AscendEXHacker :\n",
      " holo+maxflow  (level=0 k=10) 找出正确的： 3 ，\n",
      "正确率(Precision): 0.1 ,\n",
      "召回率（Recall）： 0.05263157894736842 \n",
      "\n",
      "\n",
      "AscendEXHacker :\n",
      " holo+maxflow  (level=1 k=10) 找出正确的： 4 ，\n",
      "正确率(Precision): 0.14285714285714285 ,\n",
      "召回率（Recall）： 0.07017543859649122 \n",
      "\n",
      "\n",
      "AscendEXHacker :\n",
      " holo+maxflow  (level=2 k=10) 找出正确的： 7 ，\n",
      "正确率(Precision): 0.25 ,\n",
      "召回率（Recall）： 0.12280701754385964 \n",
      "\n",
      "\n",
      "AscendEXHacker :\n",
      " holo+maxflow  (level=3 k=10) 找出正确的： 4 ，\n",
      "正确率(Precision): 0.16666666666666666 ,\n",
      "召回率（Recall）： 0.07017543859649122 \n",
      "\n",
      "\n",
      "AlphaHomora :\n",
      " holo+maxflow  (level=0 k=10) 找出正确的： 76 ，\n",
      "正确率(Precision): 0.8260869565217391 ,\n",
      "召回率（Recall）： 0.010919540229885057 \n",
      "\n",
      "\n",
      "AlphaHomora :\n",
      " holo+maxflow  (level=1 k=10) 找出正确的： 123 ，\n",
      "正确率(Precision): 0.7935483870967742 ,\n",
      "召回率（Recall）： 0.01767241379310345 \n",
      "\n",
      "\n",
      "AlphaHomora :\n",
      " holo+maxflow  (level=2 k=10) 找出正确的： 85 ，\n",
      "正确率(Precision): 0.7870370370370371 ,\n",
      "召回率（Recall）： 0.01221264367816092 \n",
      "\n",
      "\n",
      "AlphaHomora :\n",
      " holo+maxflow  (level=3 k=10) 找出正确的： 115 ，\n",
      "正确率(Precision): 0.8098591549295775 ,\n",
      "召回率（Recall）： 0.016522988505747127 \n",
      "\n",
      "\n",
      "KucoinHacker :\n",
      " holo+maxflow  (level=0 k=10) 找出正确的： 0 ，\n",
      "正确率(Precision): -2 ,\n",
      "召回率（Recall）： 0.0 \n",
      "\n",
      "\n",
      "KucoinHacker :\n",
      " holo+maxflow  (level=1 k=10) 找出正确的： 20 ，\n",
      "正确率(Precision): 0.5128205128205128 ,\n",
      "召回率（Recall）： 0.0012212994626282364 \n",
      "\n",
      "\n",
      "KucoinHacker :\n",
      " holo+maxflow  (level=2 k=10) 找出正确的： 0 ，\n",
      "正确率(Precision): -2 ,\n",
      "召回率（Recall）： 0.0 \n",
      "\n",
      "\n",
      "KucoinHacker :\n",
      " holo+maxflow  (level=3 k=10) 找出正确的： 0 ，\n",
      "正确率(Precision): 0.0 ,\n",
      "召回率（Recall）： 0.0 \n",
      "\n",
      "\n"
     ]
    }
   ],
   "source": [
    "g = os.walk(f'./Result/')  \n",
    "cases = []\n",
    "for path,dir_list,file_list in g:  \n",
    "    for dir_name in dir_list:  \n",
    "        cases.append(str(dir_name[0:-4]))\n",
    "        print(dir_name[0:-4])\n",
    "heist_result = TUANHUOJIANCE(caseing,10)"
   ]
  },
  {
   "cell_type": "code",
   "execution_count": 5,
   "metadata": {
    "collapsed": true
   },
   "outputs": [
    {
     "data": {
      "text/plain": [
       "{'AkropolisHacker': [11, 66, 29, 50],\n",
       " 'AlphaHomora': [546, 689, 613, 711],\n",
       " 'Arthur0xWalletHacker': [0, 0, 0, 0],\n",
       " 'AscendEXHacker': [1652, 1776, 1777, 1652],\n",
       " 'Coinrail': [0, 0, 0, 0],\n",
       " 'CryptopiaHacker': [0, 3, 0, 3],\n",
       " 'FakeMetadiumPresale': [715, 715, 715, 715]}"
      ]
     },
     "execution_count": 5,
     "metadata": {},
     "output_type": "execute_result"
    }
   ],
   "source": [
    "money"
   ]
  },
  {
   "cell_type": "code",
   "execution_count": 6,
   "metadata": {},
   "outputs": [],
   "source": []
  },
  {
   "cell_type": "code",
   "execution_count": 21,
   "metadata": {},
   "outputs": [],
   "source": [
    "money_df\n",
    "out_path ='F:/Inpluslab2023/2023antiML_Experiment/spartan2-tutorials-master/spartan2-tutorials-master/Result/'\n",
    "writer = pd.ExcelWriter(out_path+'Money_cases.xlsx')\n",
    "money_df.to_excel(writer)\n",
    "writer.save()\n",
    "writer.close()"
   ]
  },
  {
   "cell_type": "code",
   "execution_count": 22,
   "metadata": {},
   "outputs": [],
   "source": [
    "\n",
    "out_path ='F:/Inpluslab2023/2023antiML_Experiment/spartan2-tutorials-master/spartan2-tutorials-master/Result/'\n",
    "writer = pd.ExcelWriter(out_path+'Heist_cases.xlsx')\n",
    "heist_result.to_excel(writer)\n",
    "writer.save()\n",
    "writer.close()"
   ]
  },
  {
   "cell_type": "code",
   "execution_count": 26,
   "metadata": {},
   "outputs": [
    {
     "data": {
      "text/html": [
       "<div>\n",
       "<style scoped>\n",
       "    .dataframe tbody tr th:only-of-type {\n",
       "        vertical-align: middle;\n",
       "    }\n",
       "\n",
       "    .dataframe tbody tr th {\n",
       "        vertical-align: top;\n",
       "    }\n",
       "\n",
       "    .dataframe thead th {\n",
       "        text-align: right;\n",
       "    }\n",
       "</style>\n",
       "<table border=\"1\" class=\"dataframe\">\n",
       "  <thead>\n",
       "    <tr style=\"text-align: right;\">\n",
       "      <th></th>\n",
       "      <th>0</th>\n",
       "      <th>1</th>\n",
       "      <th>2</th>\n",
       "      <th>3</th>\n",
       "    </tr>\n",
       "  </thead>\n",
       "  <tbody>\n",
       "    <tr>\n",
       "      <th>PlusTokenPonzi</th>\n",
       "      <td>2653137</td>\n",
       "      <td>1543792</td>\n",
       "      <td>1529722</td>\n",
       "      <td>2296276</td>\n",
       "    </tr>\n",
       "    <tr>\n",
       "      <th>UpbitHack</th>\n",
       "      <td>0</td>\n",
       "      <td>167</td>\n",
       "      <td>292</td>\n",
       "      <td>184</td>\n",
       "    </tr>\n",
       "    <tr>\n",
       "      <th>AscendEXHacker</th>\n",
       "      <td>1652</td>\n",
       "      <td>1776</td>\n",
       "      <td>1777</td>\n",
       "      <td>1652</td>\n",
       "    </tr>\n",
       "    <tr>\n",
       "      <th>AlphaHomora</th>\n",
       "      <td>546</td>\n",
       "      <td>689</td>\n",
       "      <td>613</td>\n",
       "      <td>711</td>\n",
       "    </tr>\n",
       "    <tr>\n",
       "      <th>KucoinHacker</th>\n",
       "      <td>15</td>\n",
       "      <td>1520</td>\n",
       "      <td>929</td>\n",
       "      <td>1597</td>\n",
       "    </tr>\n",
       "  </tbody>\n",
       "</table>\n",
       "</div>"
      ],
      "text/plain": [
       "                      0        1        2        3\n",
       "PlusTokenPonzi  2653137  1543792  1529722  2296276\n",
       "UpbitHack             0      167      292      184\n",
       "AscendEXHacker     1652     1776     1777     1652\n",
       "AlphaHomora         546      689      613      711\n",
       "KucoinHacker         15     1520      929     1597"
      ]
     },
     "execution_count": 26,
     "metadata": {},
     "output_type": "execute_result"
    }
   ],
   "source": [
    "money_df.loc"
   ]
  },
  {
   "cell_type": "code",
   "execution_count": 34,
   "metadata": {},
   "outputs": [],
   "source": [
    "heist_result.loc['UpbitHack']['precision_level_0'] = 0"
   ]
  },
  {
   "cell_type": "code",
   "execution_count": 39,
   "metadata": {},
   "outputs": [],
   "source": [
    "heist_result.loc['KucoinHacker']['precision_level_2']=0"
   ]
  },
  {
   "cell_type": "code",
   "execution_count": 43,
   "metadata": {},
   "outputs": [
    {
     "data": {
      "text/plain": [
       "<matplotlib.axes._subplots.AxesSubplot at 0x22658ebe2c8>"
      ]
     },
     "execution_count": 43,
     "metadata": {},
     "output_type": "execute_result"
    },
    {
     "data": {
      "text/plain": [
       "<Figure size 4800x2700 with 0 Axes>"
      ]
     },
     "metadata": {},
     "output_type": "display_data"
    },
    {
     "data": {
      "image/png": "[encoded data removed]",
      "text/plain": [
       "<Figure size 432x288 with 1 Axes>"
      ]
     },
     "metadata": {
      "needs_background": "light"
     },
     "output_type": "display_data"
    }
   ],
   "source": [
    "import matplotlib.pyplot as plt\n",
    "plt.figure(figsize = (16,9),dpi=300)\n",
    "heist_result.plot.bar()"
   ]
  },
  {
   "cell_type": "code",
   "execution_count": null,
   "metadata": {},
   "outputs": [],
   "source": []
  }
 ],
 "metadata": {
  "kernelspec": {
   "display_name": "Python 3",
   "language": "python",
   "name": "python3"
  },
  "language_info": {
   "codemirror_mode": {
    "name": "ipython",
    "version": 3
   },
   "file_extension": ".py",
   "mimetype": "text/x-python",
   "name": "python",
   "nbconvert_exporter": "python",
   "pygments_lexer": "ipython3",
   "version": "3.7.5rc1"
  }
 },
 "nbformat": 4,
 "nbformat_minor": 2
}
