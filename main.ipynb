{
 "cells": [
  {
   "cell_type": "code",
   "execution_count": null,
   "metadata": {},
   "outputs": [],
   "source": [
    "from Code.myHoloscope import *\n",
    "from Code.myMaxflow import *\n",
    "from Code.Check import *\n",
    "from Code.info import *\n",
    "import Code.holodatatran as holo\n",
    "import Code.Cubedatatran as cube\n",
    "import Code.Datatran_1 as dt\n",
    "import Code.compare_method as cm\n",
    "caseing = ['PlusTokenPonzi','AlphaHomora','CryptopiaHacker','UpbitHack']\n",
    "caseandk = {'PlusTokenPonzi':10,'UpbitHack':10,'AlphaHomora':10,'CryptopiaHacker':30 }"
   ]
  },
  {
   "cell_type": "code",
   "execution_count": null,
   "metadata": {},
   "outputs": [],
   "source": [
    "casename = caseing[2]\n",
    "k = caseandk[casename]\n",
    "level=3\n",
    "hs = build_hs(casename,numSing=10)\n",
    "gpath = './Maxflow_graph/'+casename+'/'\n",
    "already = os.path.exists(gpath+'start_nodes.npy')\n",
    "if not already:\n",
    "    print('未构造图')\n",
    "    start_nodes,end_nodes,capacities,nodenum = build_g(casename)\n",
    "    \n",
    "else:\n",
    "    print('读取')\n",
    "    start_nodes,end_nodes,capacities,nodenum = read_g(casename)\n",
    "sourceadds = saddset[casename][0]\n",
    "source = nodenum[sourceadds]\n",
    "output_holo(casename,k=k,hs=hs)\n",
    "output_flow_add(casename,k=k,level=3,source = source)\n"
   ]
  },
  {
   "cell_type": "code",
   "execution_count": null,
   "metadata": {},
   "outputs": [],
   "source": []
  },
  {
   "cell_type": "code",
   "execution_count": null,
   "metadata": {},
   "outputs": [],
   "source": []
  }
 ],
 "metadata": {
  "kernelspec": {
   "display_name": "Python 3",
   "language": "python",
   "name": "python3"
  },
  "language_info": {
   "codemirror_mode": {
    "name": "ipython",
    "version": 3
   },
   "file_extension": ".py",
   "mimetype": "text/x-python",
   "name": "python",
   "nbconvert_exporter": "python",
   "pygments_lexer": "ipython3",
   "version": "3.7.5rc1"
  }
 },
 "nbformat": 4,
 "nbformat_minor": 2
}
